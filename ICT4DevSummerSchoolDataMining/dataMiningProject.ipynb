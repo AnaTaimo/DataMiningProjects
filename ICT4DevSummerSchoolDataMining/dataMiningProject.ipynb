{
 "cells": [
  {
   "cell_type": "markdown",
   "id": "d99f9327",
   "metadata": {},
   "source": [
    "<h1> A little description of the dataset is: Glassdoor salary dataset: https://glassdoor.app.box.com/v/gender-pay-data<h1>"
   ]
  },
  {
   "cell_type": "markdown",
   "id": "2d262f82",
   "metadata": {},
   "source": [
    " First, I load the libraries need for the analysis."
   ]
  },
  {
   "cell_type": "code",
   "execution_count": 54,
   "id": "632be2e5-dd39-437a-97f3-25f1a2f588d9",
   "metadata": {},
   "outputs": [],
   "source": [
    "import pandas as pd\n",
    "import numpy as np\n",
    "import seaborn as sns\n",
    "import matplotlib\n",
    "\n",
    "import matplotlib.pyplot as plt\n",
    "from scipy import stats\n",
    "from scipy.stats import skew\n",
    "from scipy.stats import norm\n",
    "from scipy.stats.stats import pearsonr\n",
    "\n",
    "%config InlineBackend.figure_format = 'retina' #set 'png' here when working on notebook\n",
    "%matplotlib inline"
   ]
  },
  {
   "cell_type": "markdown",
   "id": "a10e75a5",
   "metadata": {},
   "source": [
    "Import the dataset that I have downloaded with pandas library"
   ]
  },
  {
   "cell_type": "code",
   "execution_count": 55,
   "id": "b82cb0d1",
   "metadata": {
    "scrolled": true
   },
   "outputs": [
    {
     "name": "stdout",
     "output_type": "stream",
     "text": [
      "                jobTitle  gender  age  perfEval          edu            dept  \\\n",
      "0       Graphic Designer  Female   18         5      College      Operations   \n",
      "1      Software Engineer    Male   21         5      College      Management   \n",
      "2    Warehouse Associate  Female   19         4          PhD  Administration   \n",
      "3      Software Engineer    Male   20         5      Masters           Sales   \n",
      "4       Graphic Designer    Male   26         5      Masters     Engineering   \n",
      "..                   ...     ...  ...       ...          ...             ...   \n",
      "995  Marketing Associate  Female   61         1  High School  Administration   \n",
      "996       Data Scientist    Male   57         1      Masters           Sales   \n",
      "997    Financial Analyst    Male   48         1  High School      Operations   \n",
      "998    Financial Analyst    Male   65         2  High School  Administration   \n",
      "999    Financial Analyst    Male   60         1          PhD           Sales   \n",
      "\n",
      "     seniority  basePay  bonus  \n",
      "0            2    42363   9938  \n",
      "1            5   108476  11128  \n",
      "2            5    90208   9268  \n",
      "3            4   108080  10154  \n",
      "4            5    99464   9319  \n",
      "..         ...      ...    ...  \n",
      "995          1    62644   3270  \n",
      "996          2   108977   3567  \n",
      "997          1    92347   2724  \n",
      "998          1    97376   2225  \n",
      "999          2   123108   2244  \n",
      "\n",
      "[1000 rows x 9 columns]\n"
     ]
    }
   ],
   "source": [
    "import pandas as pd\n",
    "dt=pd.read_csv('./data.csv')\n",
    "print(dt)"
   ]
  },
  {
   "cell_type": "markdown",
   "id": "68c36b44",
   "metadata": {},
   "source": [
    "shape command returns the lenght of the dataset and the number of attributes"
   ]
  },
  {
   "cell_type": "code",
   "execution_count": 56,
   "id": "0c8ea258",
   "metadata": {},
   "outputs": [
    {
     "data": {
      "text/plain": [
       "(1000, 9)"
      ]
     },
     "execution_count": 56,
     "metadata": {},
     "output_type": "execute_result"
    }
   ],
   "source": [
    "dt.shape"
   ]
  },
  {
   "cell_type": "markdown",
   "id": "11c03985",
   "metadata": {},
   "source": [
    "len command return the lenght of the dataset"
   ]
  },
  {
   "cell_type": "code",
   "execution_count": 57,
   "id": "69ef3dbb",
   "metadata": {},
   "outputs": [
    {
     "data": {
      "text/plain": [
       "1000"
      ]
     },
     "execution_count": 57,
     "metadata": {},
     "output_type": "execute_result"
    }
   ],
   "source": [
    "len(dt)"
   ]
  },
  {
   "cell_type": "markdown",
   "id": "7682c2a1",
   "metadata": {},
   "source": [
    "print the first 10 tuples of the dataset"
   ]
  },
  {
   "cell_type": "code",
   "execution_count": 59,
   "id": "96b55b63",
   "metadata": {},
   "outputs": [
    {
     "data": {
      "text/html": [
       "<div>\n",
       "<style scoped>\n",
       "    .dataframe tbody tr th:only-of-type {\n",
       "        vertical-align: middle;\n",
       "    }\n",
       "\n",
       "    .dataframe tbody tr th {\n",
       "        vertical-align: top;\n",
       "    }\n",
       "\n",
       "    .dataframe thead th {\n",
       "        text-align: right;\n",
       "    }\n",
       "</style>\n",
       "<table border=\"1\" class=\"dataframe\">\n",
       "  <thead>\n",
       "    <tr style=\"text-align: right;\">\n",
       "      <th></th>\n",
       "      <th>jobTitle</th>\n",
       "      <th>gender</th>\n",
       "      <th>age</th>\n",
       "      <th>perfEval</th>\n",
       "      <th>edu</th>\n",
       "      <th>dept</th>\n",
       "      <th>seniority</th>\n",
       "      <th>basePay</th>\n",
       "      <th>bonus</th>\n",
       "    </tr>\n",
       "  </thead>\n",
       "  <tbody>\n",
       "    <tr>\n",
       "      <th>0</th>\n",
       "      <td>Graphic Designer</td>\n",
       "      <td>Female</td>\n",
       "      <td>18</td>\n",
       "      <td>5</td>\n",
       "      <td>College</td>\n",
       "      <td>Operations</td>\n",
       "      <td>2</td>\n",
       "      <td>42363</td>\n",
       "      <td>9938</td>\n",
       "    </tr>\n",
       "    <tr>\n",
       "      <th>1</th>\n",
       "      <td>Software Engineer</td>\n",
       "      <td>Male</td>\n",
       "      <td>21</td>\n",
       "      <td>5</td>\n",
       "      <td>College</td>\n",
       "      <td>Management</td>\n",
       "      <td>5</td>\n",
       "      <td>108476</td>\n",
       "      <td>11128</td>\n",
       "    </tr>\n",
       "    <tr>\n",
       "      <th>2</th>\n",
       "      <td>Warehouse Associate</td>\n",
       "      <td>Female</td>\n",
       "      <td>19</td>\n",
       "      <td>4</td>\n",
       "      <td>PhD</td>\n",
       "      <td>Administration</td>\n",
       "      <td>5</td>\n",
       "      <td>90208</td>\n",
       "      <td>9268</td>\n",
       "    </tr>\n",
       "    <tr>\n",
       "      <th>3</th>\n",
       "      <td>Software Engineer</td>\n",
       "      <td>Male</td>\n",
       "      <td>20</td>\n",
       "      <td>5</td>\n",
       "      <td>Masters</td>\n",
       "      <td>Sales</td>\n",
       "      <td>4</td>\n",
       "      <td>108080</td>\n",
       "      <td>10154</td>\n",
       "    </tr>\n",
       "    <tr>\n",
       "      <th>4</th>\n",
       "      <td>Graphic Designer</td>\n",
       "      <td>Male</td>\n",
       "      <td>26</td>\n",
       "      <td>5</td>\n",
       "      <td>Masters</td>\n",
       "      <td>Engineering</td>\n",
       "      <td>5</td>\n",
       "      <td>99464</td>\n",
       "      <td>9319</td>\n",
       "    </tr>\n",
       "    <tr>\n",
       "      <th>5</th>\n",
       "      <td>IT</td>\n",
       "      <td>Female</td>\n",
       "      <td>20</td>\n",
       "      <td>5</td>\n",
       "      <td>PhD</td>\n",
       "      <td>Operations</td>\n",
       "      <td>4</td>\n",
       "      <td>70890</td>\n",
       "      <td>10126</td>\n",
       "    </tr>\n",
       "    <tr>\n",
       "      <th>6</th>\n",
       "      <td>Graphic Designer</td>\n",
       "      <td>Female</td>\n",
       "      <td>20</td>\n",
       "      <td>5</td>\n",
       "      <td>College</td>\n",
       "      <td>Sales</td>\n",
       "      <td>4</td>\n",
       "      <td>67585</td>\n",
       "      <td>10541</td>\n",
       "    </tr>\n",
       "    <tr>\n",
       "      <th>7</th>\n",
       "      <td>Software Engineer</td>\n",
       "      <td>Male</td>\n",
       "      <td>18</td>\n",
       "      <td>4</td>\n",
       "      <td>PhD</td>\n",
       "      <td>Engineering</td>\n",
       "      <td>5</td>\n",
       "      <td>97523</td>\n",
       "      <td>10240</td>\n",
       "    </tr>\n",
       "    <tr>\n",
       "      <th>8</th>\n",
       "      <td>Graphic Designer</td>\n",
       "      <td>Female</td>\n",
       "      <td>33</td>\n",
       "      <td>5</td>\n",
       "      <td>High School</td>\n",
       "      <td>Engineering</td>\n",
       "      <td>5</td>\n",
       "      <td>112976</td>\n",
       "      <td>9836</td>\n",
       "    </tr>\n",
       "    <tr>\n",
       "      <th>9</th>\n",
       "      <td>Sales Associate</td>\n",
       "      <td>Female</td>\n",
       "      <td>35</td>\n",
       "      <td>5</td>\n",
       "      <td>College</td>\n",
       "      <td>Engineering</td>\n",
       "      <td>5</td>\n",
       "      <td>106524</td>\n",
       "      <td>9941</td>\n",
       "    </tr>\n",
       "  </tbody>\n",
       "</table>\n",
       "</div>"
      ],
      "text/plain": [
       "              jobTitle  gender  age  perfEval          edu            dept  \\\n",
       "0     Graphic Designer  Female   18         5      College      Operations   \n",
       "1    Software Engineer    Male   21         5      College      Management   \n",
       "2  Warehouse Associate  Female   19         4          PhD  Administration   \n",
       "3    Software Engineer    Male   20         5      Masters           Sales   \n",
       "4     Graphic Designer    Male   26         5      Masters     Engineering   \n",
       "5                   IT  Female   20         5          PhD      Operations   \n",
       "6     Graphic Designer  Female   20         5      College           Sales   \n",
       "7    Software Engineer    Male   18         4          PhD     Engineering   \n",
       "8     Graphic Designer  Female   33         5  High School     Engineering   \n",
       "9      Sales Associate  Female   35         5      College     Engineering   \n",
       "\n",
       "   seniority  basePay  bonus  \n",
       "0          2    42363   9938  \n",
       "1          5   108476  11128  \n",
       "2          5    90208   9268  \n",
       "3          4   108080  10154  \n",
       "4          5    99464   9319  \n",
       "5          4    70890  10126  \n",
       "6          4    67585  10541  \n",
       "7          5    97523  10240  \n",
       "8          5   112976   9836  \n",
       "9          5   106524   9941  "
      ]
     },
     "execution_count": 59,
     "metadata": {},
     "output_type": "execute_result"
    }
   ],
   "source": [
    "dt.head(10)"
   ]
  },
  {
   "cell_type": "code",
   "execution_count": 60,
   "id": "997dbed5",
   "metadata": {},
   "outputs": [
    {
     "data": {
      "text/plain": [
       "jobTitle     0.0\n",
       "gender       0.0\n",
       "age          0.0\n",
       "perfEval     0.0\n",
       "edu          0.0\n",
       "dept         0.0\n",
       "seniority    0.0\n",
       "basePay      0.0\n",
       "bonus        0.0\n",
       "dtype: float64"
      ]
     },
     "execution_count": 60,
     "metadata": {},
     "output_type": "execute_result"
    }
   ],
   "source": [
    "all_data_na = (dt.isnull().sum() / len(dt)) * 100\n",
    "all_data_na "
   ]
  },
  {
   "cell_type": "markdown",
   "id": "70ab0753-96e2-4832-a054-9dbd0bb1e8e7",
   "metadata": {},
   "source": [
    " In above we can see that we do not have attribute that contains an error"
   ]
  },
  {
   "cell_type": "code",
   "execution_count": 61,
   "id": "7b138792-a7da-488b-8c0c-877247f8b7ff",
   "metadata": {},
   "outputs": [],
   "source": [
    "# take the numerical features\n",
    "numeric_feats = dt.dtypes[dt.dtypes != \"object\"].index\n",
    "\n",
    "# compute the skewness but only for non missing variables (we already imputed them but just in case ...)\n",
    "skewed_feats = dt[numeric_feats].apply(lambda x: skew(x.dropna()))\n",
    "\n",
    "skewness = pd.DataFrame({\"Variable\":skewed_feats.index, \"Skewness\":skewed_feats.values})\n",
    "# select the variables with a skewness above a certain threshold"
   ]
  },
  {
   "cell_type": "code",
   "execution_count": 62,
   "id": "66424934-e532-48bb-b7a7-8be75969af94",
   "metadata": {},
   "outputs": [
    {
     "data": {
      "text/plain": [
       "Text(0.5, 1.0, '')"
      ]
     },
     "execution_count": 62,
     "metadata": {},
     "output_type": "execute_result"
    },
    {
     "data": {
      "image/png": "[encoded data removed]",
      "text/plain": [
       "<Figure size 576x432 with 1 Axes>"
      ]
     },
     "metadata": {
      "image/png": {
       "height": 407,
       "width": 499
      },
      "needs_background": "light"
     },
     "output_type": "display_data"
    }
   ],
   "source": [
    "skewness = skewness.sort_values('Skewness', ascending=[0])\n",
    "\n",
    "f, ax = plt.subplots(figsize=(8,6))\n",
    "plt.xticks(rotation='45')\n",
    "sns.barplot(x=skewness['Variable'], y=skewness['Skewness'])\n",
    "plt.ylim(0,25)\n",
    "plt.xlabel('Numerical Variables', fontsize=15)\n",
    "plt.ylabel('Skewness', fontsize=15)\n",
    "plt.title('', fontsize=15)"
   ]
  },
  {
   "cell_type": "code",
   "execution_count": 63,
   "id": "b16dbcfe-7b75-4269-bdee-8d03f6094b62",
   "metadata": {},
   "outputs": [
    {
     "data": {
      "text/plain": [
       "Series([], dtype: float64)"
      ]
     },
     "execution_count": 63,
     "metadata": {},
     "output_type": "execute_result"
    }
   ],
   "source": [
    "# since it is not obvious if the base pay has a skew higher than the treshold, I will verify it\n",
    "skewed_feats = skewed_feats[skewed_feats > 0.2]\n",
    "dt[skewed_feats.index] = np.log1p(dt[skewed_feats.index])\n",
    "skewed_feats"
   ]
  },
  {
   "cell_type": "markdown",
   "id": "3d32b12b-b16c-4dca-9c57-26ea423e4da4",
   "metadata": {},
   "source": [
    "Since there is no feature with skew higher than the threshold, I will not apply the logarithmic transformation"
   ]
  },
  {
   "cell_type": "markdown",
   "id": "0a3d4b96",
   "metadata": {},
   "source": [
    "<h2>Correlation Analysis<h2>"
   ]
  },
  {
   "cell_type": "markdown",
   "id": "7da45535",
   "metadata": {},
   "source": [
    "I perform some correlation analysis."
   ]
  },
  {
   "cell_type": "code",
   "execution_count": 64,
   "id": "91056ec4-c4b1-4d34-afa8-963d201601ba",
   "metadata": {},
   "outputs": [
    {
     "data": {
      "image/png": "[encoded data removed]",
      "text/plain": [
       "<Figure size 720x576 with 2 Axes>"
      ]
     },
     "metadata": {
      "image/png": {
       "height": 469,
       "width": 558
      },
      "needs_background": "light"
     },
     "output_type": "display_data"
    }
   ],
   "source": [
    "corrmat = dt.corr()\n",
    "plt.figure(figsize=(10,8))\n",
    "sns.heatmap(corrmat, vmax=1);"
   ]
  },
  {
   "cell_type": "markdown",
   "id": "14ab6619-4051-47a9-874e-03b2835228f0",
   "metadata": {},
   "source": [
    "Here we can see that the bonus and age have a strong negative correlation, that is to say, the lower the bonus, the lower the age, but the bonus and the evaluation performance have a strong positive correlation, that is, the higher the bonus, the greater the evaluation performance."
   ]
  },
  {
   "cell_type": "markdown",
   "id": "8407faa0-5d99-4410-8c1a-d9f989d84136",
   "metadata": {
    "tags": []
   },
   "source": [
    "<h2>Transform categorical variables into numerical<h2>"
   ]
  },
  {
   "cell_type": "code",
   "execution_count": 65,
   "id": "31d8c7ad-5b1f-4403-bae5-30ba065c3eae",
   "metadata": {},
   "outputs": [
    {
     "data": {
      "text/plain": [
       "Index(['jobTitle', 'gender', 'edu', 'dept'], dtype='object')"
      ]
     },
     "execution_count": 65,
     "metadata": {},
     "output_type": "execute_result"
    }
   ],
   "source": [
    "# get categorical variables\n",
    "dt.dtypes[dt.dtypes == \"object\"].index"
   ]
  },
  {
   "cell_type": "code",
   "execution_count": 66,
   "id": "774b7d99-d723-4898-bbf7-b29249d6019b",
   "metadata": {},
   "outputs": [
    {
     "data": {
      "text/html": [
       "<div>\n",
       "<style scoped>\n",
       "    .dataframe tbody tr th:only-of-type {\n",
       "        vertical-align: middle;\n",
       "    }\n",
       "\n",
       "    .dataframe tbody tr th {\n",
       "        vertical-align: top;\n",
       "    }\n",
       "\n",
       "    .dataframe thead th {\n",
       "        text-align: right;\n",
       "    }\n",
       "</style>\n",
       "<table border=\"1\" class=\"dataframe\">\n",
       "  <thead>\n",
       "    <tr style=\"text-align: right;\">\n",
       "      <th></th>\n",
       "      <th>age</th>\n",
       "      <th>perfEval</th>\n",
       "      <th>seniority</th>\n",
       "      <th>basePay</th>\n",
       "      <th>bonus</th>\n",
       "      <th>jobTitle_Driver</th>\n",
       "      <th>jobTitle_Financial Analyst</th>\n",
       "      <th>jobTitle_Graphic Designer</th>\n",
       "      <th>jobTitle_IT</th>\n",
       "      <th>jobTitle_Manager</th>\n",
       "      <th>...</th>\n",
       "      <th>jobTitle_Software Engineer</th>\n",
       "      <th>jobTitle_Warehouse Associate</th>\n",
       "      <th>gender_Male</th>\n",
       "      <th>edu_High School</th>\n",
       "      <th>edu_Masters</th>\n",
       "      <th>edu_PhD</th>\n",
       "      <th>dept_Engineering</th>\n",
       "      <th>dept_Management</th>\n",
       "      <th>dept_Operations</th>\n",
       "      <th>dept_Sales</th>\n",
       "    </tr>\n",
       "  </thead>\n",
       "  <tbody>\n",
       "    <tr>\n",
       "      <th>0</th>\n",
       "      <td>18</td>\n",
       "      <td>5</td>\n",
       "      <td>2</td>\n",
       "      <td>42363</td>\n",
       "      <td>9938</td>\n",
       "      <td>0</td>\n",
       "      <td>0</td>\n",
       "      <td>1</td>\n",
       "      <td>0</td>\n",
       "      <td>0</td>\n",
       "      <td>...</td>\n",
       "      <td>0</td>\n",
       "      <td>0</td>\n",
       "      <td>0</td>\n",
       "      <td>0</td>\n",
       "      <td>0</td>\n",
       "      <td>0</td>\n",
       "      <td>0</td>\n",
       "      <td>0</td>\n",
       "      <td>1</td>\n",
       "      <td>0</td>\n",
       "    </tr>\n",
       "    <tr>\n",
       "      <th>1</th>\n",
       "      <td>21</td>\n",
       "      <td>5</td>\n",
       "      <td>5</td>\n",
       "      <td>108476</td>\n",
       "      <td>11128</td>\n",
       "      <td>0</td>\n",
       "      <td>0</td>\n",
       "      <td>0</td>\n",
       "      <td>0</td>\n",
       "      <td>0</td>\n",
       "      <td>...</td>\n",
       "      <td>1</td>\n",
       "      <td>0</td>\n",
       "      <td>1</td>\n",
       "      <td>0</td>\n",
       "      <td>0</td>\n",
       "      <td>0</td>\n",
       "      <td>0</td>\n",
       "      <td>1</td>\n",
       "      <td>0</td>\n",
       "      <td>0</td>\n",
       "    </tr>\n",
       "    <tr>\n",
       "      <th>2</th>\n",
       "      <td>19</td>\n",
       "      <td>4</td>\n",
       "      <td>5</td>\n",
       "      <td>90208</td>\n",
       "      <td>9268</td>\n",
       "      <td>0</td>\n",
       "      <td>0</td>\n",
       "      <td>0</td>\n",
       "      <td>0</td>\n",
       "      <td>0</td>\n",
       "      <td>...</td>\n",
       "      <td>0</td>\n",
       "      <td>1</td>\n",
       "      <td>0</td>\n",
       "      <td>0</td>\n",
       "      <td>0</td>\n",
       "      <td>1</td>\n",
       "      <td>0</td>\n",
       "      <td>0</td>\n",
       "      <td>0</td>\n",
       "      <td>0</td>\n",
       "    </tr>\n",
       "    <tr>\n",
       "      <th>3</th>\n",
       "      <td>20</td>\n",
       "      <td>5</td>\n",
       "      <td>4</td>\n",
       "      <td>108080</td>\n",
       "      <td>10154</td>\n",
       "      <td>0</td>\n",
       "      <td>0</td>\n",
       "      <td>0</td>\n",
       "      <td>0</td>\n",
       "      <td>0</td>\n",
       "      <td>...</td>\n",
       "      <td>1</td>\n",
       "      <td>0</td>\n",
       "      <td>1</td>\n",
       "      <td>0</td>\n",
       "      <td>1</td>\n",
       "      <td>0</td>\n",
       "      <td>0</td>\n",
       "      <td>0</td>\n",
       "      <td>0</td>\n",
       "      <td>1</td>\n",
       "    </tr>\n",
       "    <tr>\n",
       "      <th>4</th>\n",
       "      <td>26</td>\n",
       "      <td>5</td>\n",
       "      <td>5</td>\n",
       "      <td>99464</td>\n",
       "      <td>9319</td>\n",
       "      <td>0</td>\n",
       "      <td>0</td>\n",
       "      <td>1</td>\n",
       "      <td>0</td>\n",
       "      <td>0</td>\n",
       "      <td>...</td>\n",
       "      <td>0</td>\n",
       "      <td>0</td>\n",
       "      <td>1</td>\n",
       "      <td>0</td>\n",
       "      <td>1</td>\n",
       "      <td>0</td>\n",
       "      <td>1</td>\n",
       "      <td>0</td>\n",
       "      <td>0</td>\n",
       "      <td>0</td>\n",
       "    </tr>\n",
       "    <tr>\n",
       "      <th>...</th>\n",
       "      <td>...</td>\n",
       "      <td>...</td>\n",
       "      <td>...</td>\n",
       "      <td>...</td>\n",
       "      <td>...</td>\n",
       "      <td>...</td>\n",
       "      <td>...</td>\n",
       "      <td>...</td>\n",
       "      <td>...</td>\n",
       "      <td>...</td>\n",
       "      <td>...</td>\n",
       "      <td>...</td>\n",
       "      <td>...</td>\n",
       "      <td>...</td>\n",
       "      <td>...</td>\n",
       "      <td>...</td>\n",
       "      <td>...</td>\n",
       "      <td>...</td>\n",
       "      <td>...</td>\n",
       "      <td>...</td>\n",
       "      <td>...</td>\n",
       "    </tr>\n",
       "    <tr>\n",
       "      <th>995</th>\n",
       "      <td>61</td>\n",
       "      <td>1</td>\n",
       "      <td>1</td>\n",
       "      <td>62644</td>\n",
       "      <td>3270</td>\n",
       "      <td>0</td>\n",
       "      <td>0</td>\n",
       "      <td>0</td>\n",
       "      <td>0</td>\n",
       "      <td>0</td>\n",
       "      <td>...</td>\n",
       "      <td>0</td>\n",
       "      <td>0</td>\n",
       "      <td>0</td>\n",
       "      <td>1</td>\n",
       "      <td>0</td>\n",
       "      <td>0</td>\n",
       "      <td>0</td>\n",
       "      <td>0</td>\n",
       "      <td>0</td>\n",
       "      <td>0</td>\n",
       "    </tr>\n",
       "    <tr>\n",
       "      <th>996</th>\n",
       "      <td>57</td>\n",
       "      <td>1</td>\n",
       "      <td>2</td>\n",
       "      <td>108977</td>\n",
       "      <td>3567</td>\n",
       "      <td>0</td>\n",
       "      <td>0</td>\n",
       "      <td>0</td>\n",
       "      <td>0</td>\n",
       "      <td>0</td>\n",
       "      <td>...</td>\n",
       "      <td>0</td>\n",
       "      <td>0</td>\n",
       "      <td>1</td>\n",
       "      <td>0</td>\n",
       "      <td>1</td>\n",
       "      <td>0</td>\n",
       "      <td>0</td>\n",
       "      <td>0</td>\n",
       "      <td>0</td>\n",
       "      <td>1</td>\n",
       "    </tr>\n",
       "    <tr>\n",
       "      <th>997</th>\n",
       "      <td>48</td>\n",
       "      <td>1</td>\n",
       "      <td>1</td>\n",
       "      <td>92347</td>\n",
       "      <td>2724</td>\n",
       "      <td>0</td>\n",
       "      <td>1</td>\n",
       "      <td>0</td>\n",
       "      <td>0</td>\n",
       "      <td>0</td>\n",
       "      <td>...</td>\n",
       "      <td>0</td>\n",
       "      <td>0</td>\n",
       "      <td>1</td>\n",
       "      <td>1</td>\n",
       "      <td>0</td>\n",
       "      <td>0</td>\n",
       "      <td>0</td>\n",
       "      <td>0</td>\n",
       "      <td>1</td>\n",
       "      <td>0</td>\n",
       "    </tr>\n",
       "    <tr>\n",
       "      <th>998</th>\n",
       "      <td>65</td>\n",
       "      <td>2</td>\n",
       "      <td>1</td>\n",
       "      <td>97376</td>\n",
       "      <td>2225</td>\n",
       "      <td>0</td>\n",
       "      <td>1</td>\n",
       "      <td>0</td>\n",
       "      <td>0</td>\n",
       "      <td>0</td>\n",
       "      <td>...</td>\n",
       "      <td>0</td>\n",
       "      <td>0</td>\n",
       "      <td>1</td>\n",
       "      <td>1</td>\n",
       "      <td>0</td>\n",
       "      <td>0</td>\n",
       "      <td>0</td>\n",
       "      <td>0</td>\n",
       "      <td>0</td>\n",
       "      <td>0</td>\n",
       "    </tr>\n",
       "    <tr>\n",
       "      <th>999</th>\n",
       "      <td>60</td>\n",
       "      <td>1</td>\n",
       "      <td>2</td>\n",
       "      <td>123108</td>\n",
       "      <td>2244</td>\n",
       "      <td>0</td>\n",
       "      <td>1</td>\n",
       "      <td>0</td>\n",
       "      <td>0</td>\n",
       "      <td>0</td>\n",
       "      <td>...</td>\n",
       "      <td>0</td>\n",
       "      <td>0</td>\n",
       "      <td>1</td>\n",
       "      <td>0</td>\n",
       "      <td>0</td>\n",
       "      <td>1</td>\n",
       "      <td>0</td>\n",
       "      <td>0</td>\n",
       "      <td>0</td>\n",
       "      <td>1</td>\n",
       "    </tr>\n",
       "  </tbody>\n",
       "</table>\n",
       "<p>1000 rows × 22 columns</p>\n",
       "</div>"
      ],
      "text/plain": [
       "     age  perfEval  seniority  basePay  bonus  jobTitle_Driver  \\\n",
       "0     18         5          2    42363   9938                0   \n",
       "1     21         5          5   108476  11128                0   \n",
       "2     19         4          5    90208   9268                0   \n",
       "3     20         5          4   108080  10154                0   \n",
       "4     26         5          5    99464   9319                0   \n",
       "..   ...       ...        ...      ...    ...              ...   \n",
       "995   61         1          1    62644   3270                0   \n",
       "996   57         1          2   108977   3567                0   \n",
       "997   48         1          1    92347   2724                0   \n",
       "998   65         2          1    97376   2225                0   \n",
       "999   60         1          2   123108   2244                0   \n",
       "\n",
       "     jobTitle_Financial Analyst  jobTitle_Graphic Designer  jobTitle_IT  \\\n",
       "0                             0                          1            0   \n",
       "1                             0                          0            0   \n",
       "2                             0                          0            0   \n",
       "3                             0                          0            0   \n",
       "4                             0                          1            0   \n",
       "..                          ...                        ...          ...   \n",
       "995                           0                          0            0   \n",
       "996                           0                          0            0   \n",
       "997                           1                          0            0   \n",
       "998                           1                          0            0   \n",
       "999                           1                          0            0   \n",
       "\n",
       "     jobTitle_Manager  ...  jobTitle_Software Engineer  \\\n",
       "0                   0  ...                           0   \n",
       "1                   0  ...                           1   \n",
       "2                   0  ...                           0   \n",
       "3                   0  ...                           1   \n",
       "4                   0  ...                           0   \n",
       "..                ...  ...                         ...   \n",
       "995                 0  ...                           0   \n",
       "996                 0  ...                           0   \n",
       "997                 0  ...                           0   \n",
       "998                 0  ...                           0   \n",
       "999                 0  ...                           0   \n",
       "\n",
       "     jobTitle_Warehouse Associate  gender_Male  edu_High School  edu_Masters  \\\n",
       "0                               0            0                0            0   \n",
       "1                               0            1                0            0   \n",
       "2                               1            0                0            0   \n",
       "3                               0            1                0            1   \n",
       "4                               0            1                0            1   \n",
       "..                            ...          ...              ...          ...   \n",
       "995                             0            0                1            0   \n",
       "996                             0            1                0            1   \n",
       "997                             0            1                1            0   \n",
       "998                             0            1                1            0   \n",
       "999                             0            1                0            0   \n",
       "\n",
       "     edu_PhD  dept_Engineering  dept_Management  dept_Operations  dept_Sales  \n",
       "0          0                 0                0                1           0  \n",
       "1          0                 0                1                0           0  \n",
       "2          1                 0                0                0           0  \n",
       "3          0                 0                0                0           1  \n",
       "4          0                 1                0                0           0  \n",
       "..       ...               ...              ...              ...         ...  \n",
       "995        0                 0                0                0           0  \n",
       "996        0                 0                0                0           1  \n",
       "997        0                 0                0                1           0  \n",
       "998        0                 0                0                0           0  \n",
       "999        1                 0                0                0           1  \n",
       "\n",
       "[1000 rows x 22 columns]"
      ]
     },
     "execution_count": 66,
     "metadata": {},
     "output_type": "execute_result"
    }
   ],
   "source": [
    "dt = pd.get_dummies(dt, columns=['jobTitle', 'gender', 'edu', 'dept'], drop_first=True)\n",
    "dt"
   ]
  },
  {
   "cell_type": "markdown",
   "id": "f4bda07d-4091-4b51-9704-4d0e267b7b05",
   "metadata": {},
   "source": [
    "# Create train and test sets"
   ]
  },
  {
   "cell_type": "code",
   "execution_count": 67,
   "id": "acdc9f0d-4658-4b3a-a190-aa3514db603c",
   "metadata": {},
   "outputs": [
    {
     "data": {
      "text/plain": [
       "0       9938\n",
       "1      11128\n",
       "2       9268\n",
       "3      10154\n",
       "4       9319\n",
       "       ...  \n",
       "995     3270\n",
       "996     3567\n",
       "997     2724\n",
       "998     2225\n",
       "999     2244\n",
       "Name: bonus, Length: 1000, dtype: int64"
      ]
     },
     "execution_count": 67,
     "metadata": {},
     "output_type": "execute_result"
    }
   ],
   "source": [
    "# split the data into inputs and targets \n",
    "\n",
    "targets = dt['bonus']\n",
    "targets"
   ]
  },
  {
   "cell_type": "code",
   "execution_count": 68,
   "id": "2c78b521-bea1-4087-b060-7c2ae1e71b38",
   "metadata": {},
   "outputs": [
    {
     "data": {
      "text/html": [
       "<div>\n",
       "<style scoped>\n",
       "    .dataframe tbody tr th:only-of-type {\n",
       "        vertical-align: middle;\n",
       "    }\n",
       "\n",
       "    .dataframe tbody tr th {\n",
       "        vertical-align: top;\n",
       "    }\n",
       "\n",
       "    .dataframe thead th {\n",
       "        text-align: right;\n",
       "    }\n",
       "</style>\n",
       "<table border=\"1\" class=\"dataframe\">\n",
       "  <thead>\n",
       "    <tr style=\"text-align: right;\">\n",
       "      <th></th>\n",
       "      <th>age</th>\n",
       "      <th>perfEval</th>\n",
       "      <th>seniority</th>\n",
       "      <th>basePay</th>\n",
       "      <th>jobTitle_Driver</th>\n",
       "      <th>jobTitle_Financial Analyst</th>\n",
       "      <th>jobTitle_Graphic Designer</th>\n",
       "      <th>jobTitle_IT</th>\n",
       "      <th>jobTitle_Manager</th>\n",
       "      <th>jobTitle_Marketing Associate</th>\n",
       "      <th>...</th>\n",
       "      <th>jobTitle_Software Engineer</th>\n",
       "      <th>jobTitle_Warehouse Associate</th>\n",
       "      <th>gender_Male</th>\n",
       "      <th>edu_High School</th>\n",
       "      <th>edu_Masters</th>\n",
       "      <th>edu_PhD</th>\n",
       "      <th>dept_Engineering</th>\n",
       "      <th>dept_Management</th>\n",
       "      <th>dept_Operations</th>\n",
       "      <th>dept_Sales</th>\n",
       "    </tr>\n",
       "  </thead>\n",
       "  <tbody>\n",
       "    <tr>\n",
       "      <th>0</th>\n",
       "      <td>18</td>\n",
       "      <td>5</td>\n",
       "      <td>2</td>\n",
       "      <td>42363</td>\n",
       "      <td>0</td>\n",
       "      <td>0</td>\n",
       "      <td>1</td>\n",
       "      <td>0</td>\n",
       "      <td>0</td>\n",
       "      <td>0</td>\n",
       "      <td>...</td>\n",
       "      <td>0</td>\n",
       "      <td>0</td>\n",
       "      <td>0</td>\n",
       "      <td>0</td>\n",
       "      <td>0</td>\n",
       "      <td>0</td>\n",
       "      <td>0</td>\n",
       "      <td>0</td>\n",
       "      <td>1</td>\n",
       "      <td>0</td>\n",
       "    </tr>\n",
       "    <tr>\n",
       "      <th>1</th>\n",
       "      <td>21</td>\n",
       "      <td>5</td>\n",
       "      <td>5</td>\n",
       "      <td>108476</td>\n",
       "      <td>0</td>\n",
       "      <td>0</td>\n",
       "      <td>0</td>\n",
       "      <td>0</td>\n",
       "      <td>0</td>\n",
       "      <td>0</td>\n",
       "      <td>...</td>\n",
       "      <td>1</td>\n",
       "      <td>0</td>\n",
       "      <td>1</td>\n",
       "      <td>0</td>\n",
       "      <td>0</td>\n",
       "      <td>0</td>\n",
       "      <td>0</td>\n",
       "      <td>1</td>\n",
       "      <td>0</td>\n",
       "      <td>0</td>\n",
       "    </tr>\n",
       "    <tr>\n",
       "      <th>2</th>\n",
       "      <td>19</td>\n",
       "      <td>4</td>\n",
       "      <td>5</td>\n",
       "      <td>90208</td>\n",
       "      <td>0</td>\n",
       "      <td>0</td>\n",
       "      <td>0</td>\n",
       "      <td>0</td>\n",
       "      <td>0</td>\n",
       "      <td>0</td>\n",
       "      <td>...</td>\n",
       "      <td>0</td>\n",
       "      <td>1</td>\n",
       "      <td>0</td>\n",
       "      <td>0</td>\n",
       "      <td>0</td>\n",
       "      <td>1</td>\n",
       "      <td>0</td>\n",
       "      <td>0</td>\n",
       "      <td>0</td>\n",
       "      <td>0</td>\n",
       "    </tr>\n",
       "    <tr>\n",
       "      <th>3</th>\n",
       "      <td>20</td>\n",
       "      <td>5</td>\n",
       "      <td>4</td>\n",
       "      <td>108080</td>\n",
       "      <td>0</td>\n",
       "      <td>0</td>\n",
       "      <td>0</td>\n",
       "      <td>0</td>\n",
       "      <td>0</td>\n",
       "      <td>0</td>\n",
       "      <td>...</td>\n",
       "      <td>1</td>\n",
       "      <td>0</td>\n",
       "      <td>1</td>\n",
       "      <td>0</td>\n",
       "      <td>1</td>\n",
       "      <td>0</td>\n",
       "      <td>0</td>\n",
       "      <td>0</td>\n",
       "      <td>0</td>\n",
       "      <td>1</td>\n",
       "    </tr>\n",
       "    <tr>\n",
       "      <th>4</th>\n",
       "      <td>26</td>\n",
       "      <td>5</td>\n",
       "      <td>5</td>\n",
       "      <td>99464</td>\n",
       "      <td>0</td>\n",
       "      <td>0</td>\n",
       "      <td>1</td>\n",
       "      <td>0</td>\n",
       "      <td>0</td>\n",
       "      <td>0</td>\n",
       "      <td>...</td>\n",
       "      <td>0</td>\n",
       "      <td>0</td>\n",
       "      <td>1</td>\n",
       "      <td>0</td>\n",
       "      <td>1</td>\n",
       "      <td>0</td>\n",
       "      <td>1</td>\n",
       "      <td>0</td>\n",
       "      <td>0</td>\n",
       "      <td>0</td>\n",
       "    </tr>\n",
       "    <tr>\n",
       "      <th>...</th>\n",
       "      <td>...</td>\n",
       "      <td>...</td>\n",
       "      <td>...</td>\n",
       "      <td>...</td>\n",
       "      <td>...</td>\n",
       "      <td>...</td>\n",
       "      <td>...</td>\n",
       "      <td>...</td>\n",
       "      <td>...</td>\n",
       "      <td>...</td>\n",
       "      <td>...</td>\n",
       "      <td>...</td>\n",
       "      <td>...</td>\n",
       "      <td>...</td>\n",
       "      <td>...</td>\n",
       "      <td>...</td>\n",
       "      <td>...</td>\n",
       "      <td>...</td>\n",
       "      <td>...</td>\n",
       "      <td>...</td>\n",
       "      <td>...</td>\n",
       "    </tr>\n",
       "    <tr>\n",
       "      <th>995</th>\n",
       "      <td>61</td>\n",
       "      <td>1</td>\n",
       "      <td>1</td>\n",
       "      <td>62644</td>\n",
       "      <td>0</td>\n",
       "      <td>0</td>\n",
       "      <td>0</td>\n",
       "      <td>0</td>\n",
       "      <td>0</td>\n",
       "      <td>1</td>\n",
       "      <td>...</td>\n",
       "      <td>0</td>\n",
       "      <td>0</td>\n",
       "      <td>0</td>\n",
       "      <td>1</td>\n",
       "      <td>0</td>\n",
       "      <td>0</td>\n",
       "      <td>0</td>\n",
       "      <td>0</td>\n",
       "      <td>0</td>\n",
       "      <td>0</td>\n",
       "    </tr>\n",
       "    <tr>\n",
       "      <th>996</th>\n",
       "      <td>57</td>\n",
       "      <td>1</td>\n",
       "      <td>2</td>\n",
       "      <td>108977</td>\n",
       "      <td>0</td>\n",
       "      <td>0</td>\n",
       "      <td>0</td>\n",
       "      <td>0</td>\n",
       "      <td>0</td>\n",
       "      <td>0</td>\n",
       "      <td>...</td>\n",
       "      <td>0</td>\n",
       "      <td>0</td>\n",
       "      <td>1</td>\n",
       "      <td>0</td>\n",
       "      <td>1</td>\n",
       "      <td>0</td>\n",
       "      <td>0</td>\n",
       "      <td>0</td>\n",
       "      <td>0</td>\n",
       "      <td>1</td>\n",
       "    </tr>\n",
       "    <tr>\n",
       "      <th>997</th>\n",
       "      <td>48</td>\n",
       "      <td>1</td>\n",
       "      <td>1</td>\n",
       "      <td>92347</td>\n",
       "      <td>0</td>\n",
       "      <td>1</td>\n",
       "      <td>0</td>\n",
       "      <td>0</td>\n",
       "      <td>0</td>\n",
       "      <td>0</td>\n",
       "      <td>...</td>\n",
       "      <td>0</td>\n",
       "      <td>0</td>\n",
       "      <td>1</td>\n",
       "      <td>1</td>\n",
       "      <td>0</td>\n",
       "      <td>0</td>\n",
       "      <td>0</td>\n",
       "      <td>0</td>\n",
       "      <td>1</td>\n",
       "      <td>0</td>\n",
       "    </tr>\n",
       "    <tr>\n",
       "      <th>998</th>\n",
       "      <td>65</td>\n",
       "      <td>2</td>\n",
       "      <td>1</td>\n",
       "      <td>97376</td>\n",
       "      <td>0</td>\n",
       "      <td>1</td>\n",
       "      <td>0</td>\n",
       "      <td>0</td>\n",
       "      <td>0</td>\n",
       "      <td>0</td>\n",
       "      <td>...</td>\n",
       "      <td>0</td>\n",
       "      <td>0</td>\n",
       "      <td>1</td>\n",
       "      <td>1</td>\n",
       "      <td>0</td>\n",
       "      <td>0</td>\n",
       "      <td>0</td>\n",
       "      <td>0</td>\n",
       "      <td>0</td>\n",
       "      <td>0</td>\n",
       "    </tr>\n",
       "    <tr>\n",
       "      <th>999</th>\n",
       "      <td>60</td>\n",
       "      <td>1</td>\n",
       "      <td>2</td>\n",
       "      <td>123108</td>\n",
       "      <td>0</td>\n",
       "      <td>1</td>\n",
       "      <td>0</td>\n",
       "      <td>0</td>\n",
       "      <td>0</td>\n",
       "      <td>0</td>\n",
       "      <td>...</td>\n",
       "      <td>0</td>\n",
       "      <td>0</td>\n",
       "      <td>1</td>\n",
       "      <td>0</td>\n",
       "      <td>0</td>\n",
       "      <td>1</td>\n",
       "      <td>0</td>\n",
       "      <td>0</td>\n",
       "      <td>0</td>\n",
       "      <td>1</td>\n",
       "    </tr>\n",
       "  </tbody>\n",
       "</table>\n",
       "<p>1000 rows × 21 columns</p>\n",
       "</div>"
      ],
      "text/plain": [
       "     age  perfEval  seniority  basePay  jobTitle_Driver  \\\n",
       "0     18         5          2    42363                0   \n",
       "1     21         5          5   108476                0   \n",
       "2     19         4          5    90208                0   \n",
       "3     20         5          4   108080                0   \n",
       "4     26         5          5    99464                0   \n",
       "..   ...       ...        ...      ...              ...   \n",
       "995   61         1          1    62644                0   \n",
       "996   57         1          2   108977                0   \n",
       "997   48         1          1    92347                0   \n",
       "998   65         2          1    97376                0   \n",
       "999   60         1          2   123108                0   \n",
       "\n",
       "     jobTitle_Financial Analyst  jobTitle_Graphic Designer  jobTitle_IT  \\\n",
       "0                             0                          1            0   \n",
       "1                             0                          0            0   \n",
       "2                             0                          0            0   \n",
       "3                             0                          0            0   \n",
       "4                             0                          1            0   \n",
       "..                          ...                        ...          ...   \n",
       "995                           0                          0            0   \n",
       "996                           0                          0            0   \n",
       "997                           1                          0            0   \n",
       "998                           1                          0            0   \n",
       "999                           1                          0            0   \n",
       "\n",
       "     jobTitle_Manager  jobTitle_Marketing Associate  ...  \\\n",
       "0                   0                             0  ...   \n",
       "1                   0                             0  ...   \n",
       "2                   0                             0  ...   \n",
       "3                   0                             0  ...   \n",
       "4                   0                             0  ...   \n",
       "..                ...                           ...  ...   \n",
       "995                 0                             1  ...   \n",
       "996                 0                             0  ...   \n",
       "997                 0                             0  ...   \n",
       "998                 0                             0  ...   \n",
       "999                 0                             0  ...   \n",
       "\n",
       "     jobTitle_Software Engineer  jobTitle_Warehouse Associate  gender_Male  \\\n",
       "0                             0                             0            0   \n",
       "1                             1                             0            1   \n",
       "2                             0                             1            0   \n",
       "3                             1                             0            1   \n",
       "4                             0                             0            1   \n",
       "..                          ...                           ...          ...   \n",
       "995                           0                             0            0   \n",
       "996                           0                             0            1   \n",
       "997                           0                             0            1   \n",
       "998                           0                             0            1   \n",
       "999                           0                             0            1   \n",
       "\n",
       "     edu_High School  edu_Masters  edu_PhD  dept_Engineering  dept_Management  \\\n",
       "0                  0            0        0                 0                0   \n",
       "1                  0            0        0                 0                1   \n",
       "2                  0            0        1                 0                0   \n",
       "3                  0            1        0                 0                0   \n",
       "4                  0            1        0                 1                0   \n",
       "..               ...          ...      ...               ...              ...   \n",
       "995                1            0        0                 0                0   \n",
       "996                0            1        0                 0                0   \n",
       "997                1            0        0                 0                0   \n",
       "998                1            0        0                 0                0   \n",
       "999                0            0        1                 0                0   \n",
       "\n",
       "     dept_Operations  dept_Sales  \n",
       "0                  1           0  \n",
       "1                  0           0  \n",
       "2                  0           0  \n",
       "3                  0           1  \n",
       "4                  0           0  \n",
       "..               ...         ...  \n",
       "995                0           0  \n",
       "996                0           1  \n",
       "997                1           0  \n",
       "998                0           0  \n",
       "999                0           1  \n",
       "\n",
       "[1000 rows x 21 columns]"
      ]
     },
     "execution_count": 68,
     "metadata": {},
     "output_type": "execute_result"
    }
   ],
   "source": [
    "inputs=dt.drop(['bonus'],axis=1)\n",
    "inputs"
   ]
  },
  {
   "cell_type": "code",
   "execution_count": 69,
   "id": "e063aa83-297b-4e62-a10a-a7662791a38c",
   "metadata": {},
   "outputs": [
    {
     "data": {
      "text/plain": [
       "array([[-1.6372817 ,  1.37924092, -0.6963913 , ..., -0.49687301,\n",
       "         1.93956303, -0.51091491],\n",
       "       [-1.42731098,  1.37924092,  1.45517812, ...,  2.01258666,\n",
       "        -0.51558005, -0.51091491],\n",
       "       [-1.56729146,  0.67662201,  1.45517812, ..., -0.49687301,\n",
       "        -0.51558005, -0.51091491],\n",
       "       ...,\n",
       "       [ 0.46242552, -1.43123471, -1.41358111, ..., -0.49687301,\n",
       "         1.93956303, -0.51091491],\n",
       "       [ 1.65225961, -0.72861581, -1.41358111, ..., -0.49687301,\n",
       "        -0.51558005, -0.51091491],\n",
       "       [ 1.30230841, -1.43123471, -0.6963913 , ..., -0.49687301,\n",
       "        -0.51558005,  1.95727307]])"
      ]
     },
     "execution_count": 69,
     "metadata": {},
     "output_type": "execute_result"
    }
   ],
   "source": [
    "from sklearn.preprocessing import StandardScaler\n",
    "scaled_inputs = StandardScaler().fit_transform(inputs)\n",
    "scaled_inputs"
   ]
  },
  {
   "cell_type": "code",
   "execution_count": 70,
   "id": "8981910a-d3d9-4148-8a8c-f53db0ca99bd",
   "metadata": {},
   "outputs": [],
   "source": [
    "# create test and train sets\n",
    "from sklearn.model_selection import train_test_split\n",
    "x_train,x_test,y_train,y_test=train_test_split(scaled_inputs,targets,test_size=0.2, random_state=365)"
   ]
  },
  {
   "cell_type": "markdown",
   "id": "85527af9-d6e8-495f-8f09-04cbfc8187c6",
   "metadata": {},
   "source": [
    "# Create models"
   ]
  },
  {
   "cell_type": "code",
   "execution_count": 87,
   "id": "1cf56e82-62b3-496c-bddd-e93291a616eb",
   "metadata": {},
   "outputs": [],
   "source": [
    "from sklearn.ensemble import AdaBoostRegressor\n",
    "from sklearn.tree import DecisionTreeRegressor\n",
    "from sklearn import linear_model\n",
    "from sklearn.model_selection import KFold\n",
    "from sklearn.model_selection import cross_val_score"
   ]
  },
  {
   "cell_type": "markdown",
   "id": "d059480c-e172-4dea-bf35-4b92a37fdaa6",
   "metadata": {},
   "source": [
    "### Adaboost Model"
   ]
  },
  {
   "cell_type": "code",
   "execution_count": 84,
   "id": "1fa78368-24dd-4919-8b75-ae27574aa601",
   "metadata": {},
   "outputs": [
    {
     "data": {
      "text/plain": [
       "579    -323.784530\n",
       "206     105.834061\n",
       "821     286.117857\n",
       "252     -42.925000\n",
       "733   -1378.817881\n",
       "          ...     \n",
       "695   -1284.446352\n",
       "443    -192.462908\n",
       "820     745.546763\n",
       "521      33.240506\n",
       "884   -1523.784884\n",
       "Name: bonus, Length: 200, dtype: float64"
      ]
     },
     "execution_count": 84,
     "metadata": {},
     "output_type": "execute_result"
    }
   ],
   "source": [
    "random_seed = 1234\n",
    "adaboost_model = AdaBoostRegressor(DecisionTreeRegressor(max_depth=2), n_estimators=300, random_state=random_seed)\n",
    "adaboost_model.fit(x_train, y_train.ravel())\n",
    "\n",
    "y_predict = adaboost_model.predict(x_test)\n",
    "y_test-y_predict"
   ]
  },
  {
   "cell_type": "code",
   "execution_count": 86,
   "id": "7635e42c-45a7-4093-b291-af930c0d00af",
   "metadata": {},
   "outputs": [
    {
     "data": {
      "text/plain": [
       "88.43653050794609"
      ]
     },
     "execution_count": 86,
     "metadata": {},
     "output_type": "execute_result"
    }
   ],
   "source": [
    "adaboost_model.score(x_train, y_train.ravel())*100"
   ]
  },
  {
   "cell_type": "markdown",
   "id": "48779b79-64e7-40ca-8759-366ef0aa2200",
   "metadata": {},
   "source": [
    "----"
   ]
  },
  {
   "cell_type": "code",
   "execution_count": 83,
   "id": "2ef89b9b-4831-4b4e-b573-24bc9ebe5b8a",
   "metadata": {},
   "outputs": [
    {
     "data": {
      "image/png": "[encoded data removed]",
      "text/plain": [
       "<Figure size 432x288 with 1 Axes>"
      ]
     },
     "metadata": {
      "image/png": {
       "height": 277,
       "width": 392
      },
      "needs_background": "light"
     },
     "output_type": "display_data"
    }
   ],
   "source": [
    "plt.scatter(y_test, y_predict,  alpha=0.2)\n",
    "\n",
    "plt.xlabel(\"Real targets\",size=18)\n",
    "plt.ylabel(\"Predictions\",size=18)\n",
    "\n",
    "plt.title(\"Bonus and the Base Pay\")\n",
    "\n",
    "plt.show()"
   ]
  },
  {
   "cell_type": "markdown",
   "id": "560239bc-dea3-4e81-8d8d-308ea7a6900b",
   "metadata": {},
   "source": [
    ".."
   ]
  },
  {
   "cell_type": "markdown",
   "id": "94ff523e-9eaf-4750-8cc8-2696e60e92cf",
   "metadata": {},
   "source": [
    "# Linear Regression model"
   ]
  },
  {
   "cell_type": "code",
   "execution_count": 95,
   "id": "f6e951f7-742a-4e24-bf8a-c174f508ae60",
   "metadata": {
    "tags": []
   },
   "outputs": [
    {
     "data": {
      "image/png": "[encoded data removed]",
      "text/plain": [
       "<Figure size 432x288 with 1 Axes>"
      ]
     },
     "metadata": {
      "image/png": {
       "height": 287,
       "width": 403
      },
      "needs_background": "light"
     },
     "output_type": "display_data"
    }
   ],
   "source": [
    "regr = linear_model.LinearRegression()\n",
    "\n",
    "regr.fit(x_train, y_train)\n",
    "\n",
    "# model output for the input data\n",
    "y_hat = regr.predict(x_test)\n",
    "\n",
    "plt.scatter(y_test, y_hat,  alpha=0.2)\n",
    "\n",
    "plt.xlabel(\"Real targets\",size=18)\n",
    "plt.ylabel(\"Predictions\",size=18)\n",
    "\n",
    "plt.title(f'Accuracy = {regr.score(x_train, y_train)*100}%',size=20)\n",
    "\n",
    "plt.show()"
   ]
  },
  {
   "cell_type": "markdown",
   "id": "20fd2b5f-a950-4e81-b87b-263543e5a3ae",
   "metadata": {},
   "source": [
    "...."
   ]
  },
  {
   "cell_type": "code",
   "execution_count": 99,
   "id": "0ff16536-7dea-4a3e-8841-16bb50378b91",
   "metadata": {},
   "outputs": [
    {
     "data": {
      "text/plain": [
       "579   -378.508465\n",
       "206   -136.131230\n",
       "821   -153.156133\n",
       "252   -268.906982\n",
       "733   -829.107559\n",
       "          ...    \n",
       "695   -503.345834\n",
       "443    113.792688\n",
       "820    559.240086\n",
       "521    317.658244\n",
       "884   -284.589266\n",
       "Name: bonus, Length: 200, dtype: float64"
      ]
     },
     "execution_count": 99,
     "metadata": {},
     "output_type": "execute_result"
    }
   ],
   "source": [
    "y_test-y_hat"
   ]
  },
  {
   "cell_type": "markdown",
   "id": "ca1ac08c-80ba-4b96-bb7e-a6277e34076d",
   "metadata": {},
   "source": [
    "### Model Evaluation Linear Regression with crossvalidation"
   ]
  },
  {
   "cell_type": "code",
   "execution_count": 90,
   "id": "ab12bfed-5b57-4d5a-9c15-9f9440e400dc",
   "metadata": {},
   "outputs": [
    {
     "name": "stdout",
     "output_type": "stream",
     "text": [
      "Mean score of 0.93 with a standard deviation of 0.02\n"
     ]
    }
   ],
   "source": [
    "model = linear_model.LinearRegression()\n",
    "scores = cross_val_score(model, x_train, y_train, cv=10)\n",
    "\n",
    "print(\"Mean score of %0.2f with a standard deviation of %0.2f\" % (scores.mean(), scores.std()))"
   ]
  },
  {
   "cell_type": "markdown",
   "id": "d136d87e-a4a7-40fd-b8eb-8165cbe5f9bd",
   "metadata": {},
   "source": [
    "There isn't"
   ]
  },
  {
   "cell_type": "markdown",
   "id": "d0e81e4e-6e6b-4851-9cf1-f65f46ae6371",
   "metadata": {},
   "source": [
    "# KNN model"
   ]
  },
  {
   "cell_type": "code",
   "execution_count": 98,
   "id": "ff75b1a4-f6fa-416a-86e0-04e71cb930b8",
   "metadata": {},
   "outputs": [
    {
     "data": {
      "image/png": "[encoded data removed]",
      "text/plain": [
       "<Figure size 432x288 with 1 Axes>"
      ]
     },
     "metadata": {
      "image/png": {
       "height": 287,
       "width": 403
      },
      "needs_background": "light"
     },
     "output_type": "display_data"
    }
   ],
   "source": [
    "from sklearn import neighbors\n",
    "knn = neighbors.KNeighborsRegressor(5, weights='uniform')\n",
    "\n",
    "knn.fit(x_train, y_train)\n",
    "\n",
    "y_pred = knn.predict(x_test)\n",
    "\n",
    "plt.scatter(y_test, y_hat,  alpha=0.2)\n",
    "\n",
    "plt.xlabel(\"Real targets\",size=18)\n",
    "plt.ylabel(\"Predictions\",size=18)\n",
    "\n",
    "plt.title(f'Accuracy = {knn.score(x_train, y_train)*100}%',size=20)\n",
    "\n",
    "plt.show()"
   ]
  },
  {
   "cell_type": "markdown",
   "id": "7d344022-0388-4b5c-ae6b-9139473297e0",
   "metadata": {},
   "source": []
  },
  {
   "cell_type": "code",
   "execution_count": 100,
   "id": "1a0eac7e-cc2f-4c7e-a84c-a97f11cc3904",
   "metadata": {},
   "outputs": [
    {
     "data": {
      "text/plain": [
       "579    -814.0\n",
       "206    2457.2\n",
       "821   -1997.8\n",
       "252    1502.2\n",
       "733   -1795.8\n",
       "        ...  \n",
       "695    -292.2\n",
       "443    -467.8\n",
       "820    -218.2\n",
       "521     683.6\n",
       "884   -2658.4\n",
       "Name: bonus, Length: 200, dtype: float64"
      ]
     },
     "execution_count": 100,
     "metadata": {},
     "output_type": "execute_result"
    }
   ],
   "source": [
    "y_test-y_pred"
   ]
  },
  {
   "cell_type": "markdown",
   "id": "e27f1506-6819-4dec-87a2-59b6f2f0c125",
   "metadata": {},
   "source": []
  }
 ],
 "metadata": {
  "kernelspec": {
   "display_name": "Python 3 (ipykernel)",
   "language": "python",
   "name": "python3"
  },
  "language_info": {
   "codemirror_mode": {
    "name": "ipython",
    "version": 3
   },
   "file_extension": ".py",
   "mimetype": "text/x-python",
   "name": "python",
   "nbconvert_exporter": "python",
   "pygments_lexer": "ipython3",
   "version": "3.9.7"
  }
 },
 "nbformat": 4,
 "nbformat_minor": 5
}
